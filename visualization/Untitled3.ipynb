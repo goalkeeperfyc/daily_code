{
 "cells": [
  {
   "cell_type": "code",
   "execution_count": 1,
   "metadata": {},
   "outputs": [
    {
     "name": "stdout",
     "output_type": "stream",
     "text": [
      "Using matplotlib backend: MacOSX\n"
     ]
    }
   ],
   "source": [
    "%matplotlib\n",
    "import scipy.stats as ss\n",
    "import matplotlib.pyplot as plt\n",
    "import matplotlib.colors as col\n",
    "import matplotlib.cm as cm\n",
    "import pandas as pd\n",
    "import numpy as np\n",
    "import random\n",
    "\n",
    "np.random.seed(12345)\n",
    "\n",
    "df = pd.DataFrame([np.random.normal(32000,200000,3650), \n",
    "                   np.random.normal(43000,100000,3650), \n",
    "                   np.random.normal(43500,140000,3650), \n",
    "                   np.random.normal(48000,70000,3650)], \n",
    "                  index=[1992,1993,1994,1995])\n",
    "\n",
    "# means and standard deviations\n",
    "means = df.mean(axis=1)\n",
    "std = df.std(axis=1)\n",
    "\n",
    "# n is given above\n",
    "n = 3650\n",
    "\n",
    "# compute the 95% confidence intervals\n",
    "yerr = std / np.sqrt(n) * 1.96\n",
    "CI_list = [ss.norm.interval(0.95, loc=mean, scale=se) for mean, se in zip(means, std / np.sqrt(n))]\n",
    "\n",
    "# a function to calculate the probability\n",
    "def calculate_pro(y, ci):\n",
    "    if y < np.min(ci):\n",
    "        result = 1.0\n",
    "    elif y > np.max(ci):\n",
    "        result = 0.0\n",
    "    else:\n",
    "        result = (np.max(ci) - y) / (np.max(ci) - np.min(ci))\n",
    "    return result\n",
    "\n",
    "# generalize a y by random\n",
    "y = random.randint(40000, 45000)\n",
    "\n",
    "# calculate the pro\n",
    "prob_list = [calculate_pro(y, ci) for ci in CI_list]\n",
    "\n",
    "# setup the colormap\n",
    "cmap = cm.get_cmap('coolwarm')\n",
    "cpick = cm.ScalarMappable(cmap=cmap, norm=col.Normalize(vmin=0, vmax=1.0))\n",
    "cpick.set_array([])\n",
    "\n",
    "# setup the plot\n",
    "rects = plt.bar(range(4), means, yerr=yerr, color = cpick.to_rgba(prob_list))\n",
    "\n",
    "# add the horizontal line \n",
    "plt.axhline(y=y, zorder=1, color='k')\n",
    "\n",
    "# add its value\n",
    "yt = plt.gca().get_yticks()\n",
    "yt = np.append(yt, y)\n",
    "plt.gca().set_yticks(yt)\n",
    "\n",
    "# set x-axis\n",
    "plt.xticks(range(4), df.T.columns)\n",
    "\n",
    "# add the instructions\n",
    "cbar = plt.colorbar(cpick, orientation=\"horizontal\")\n",
    "\n",
    "# remove the boundary at top and right\n",
    "[plt.gca().spines[loc].set_visible(False) for loc in ['top', 'right']]\n",
    "\n",
    "plt.show()"
   ]
  },
  {
   "cell_type": "code",
   "execution_count": null,
   "metadata": {},
   "outputs": [],
   "source": []
  }
 ],
 "metadata": {
  "kernelspec": {
   "display_name": "Python 3",
   "language": "python",
   "name": "python3"
  },
  "language_info": {
   "codemirror_mode": {
    "name": "ipython",
    "version": 3
   },
   "file_extension": ".py",
   "mimetype": "text/x-python",
   "name": "python",
   "nbconvert_exporter": "python",
   "pygments_lexer": "ipython3",
   "version": "3.6.8"
  }
 },
 "nbformat": 4,
 "nbformat_minor": 2
}
