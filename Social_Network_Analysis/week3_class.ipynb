{
 "cells": [
  {
   "cell_type": "code",
   "execution_count": 1,
   "metadata": {},
   "outputs": [],
   "source": [
    "import networkx as nx"
   ]
  },
  {
   "cell_type": "code",
   "execution_count": 2,
   "metadata": {},
   "outputs": [],
   "source": [
    "#normalized default is True\n",
    "#endpoints default is False\n",
    "G = nx.Graph()\n",
    "G.add_edge('A', 'B')\n",
    "G.add_edge('A', 'C')\n",
    "G.add_edge('B', 'C')\n",
    "G.add_edge('C', 'D')\n",
    "G.add_edge('D', 'E')\n",
    "G.add_edge('E', 'F')\n",
    "G.add_edge('F', 'G')\n",
    "G.add_edge('E', 'G')\n",
    "nx.betweenness_centrality(G)"
   ]
  },
  {
   "cell_type": "code",
   "execution_count": 5,
   "metadata": {},
   "outputs": [
    {
     "data": {
      "text/plain": [
       "{('A', 'B'): 0.047619047619047616,\n",
       " ('A', 'C'): 0.23809523809523808,\n",
       " ('B', 'C'): 0.23809523809523808,\n",
       " ('C', 'D'): 0.5714285714285714,\n",
       " ('D', 'E'): 0.5714285714285714,\n",
       " ('E', 'F'): 0.23809523809523808,\n",
       " ('E', 'G'): 0.23809523809523808,\n",
       " ('F', 'G'): 0.047619047619047616}"
      ]
     },
     "execution_count": 5,
     "metadata": {},
     "output_type": "execute_result"
    }
   ],
   "source": []
  },
  {
   "cell_type": "code",
   "execution_count": 8,
   "metadata": {},
   "outputs": [
    {
     "data": {
      "text/plain": [
       "{'1': 0.5446428571428571,\n",
       " '2': 0.21428571428571427,\n",
       " '5': 0.5714285714285714,\n",
       " '3': 0.008928571428571428,\n",
       " '4': 0.0,\n",
       " '6': 0.5446428571428571,\n",
       " '7': 0.21428571428571427,\n",
       " '8': 0.008928571428571428,\n",
       " '9': 0.0}"
      ]
     },
     "execution_count": 8,
     "metadata": {},
     "output_type": "execute_result"
    }
   ],
   "source": [
    "G = nx.DiGraph()\n",
    "G.add_edge('1', '2')\n",
    "G.add_edge('1', '5')\n",
    "G.add_edge('2', '1')\n",
    "G.add_edge('2', '3')\n",
    "G.add_edge('2', '4')\n",
    "G.add_edge('3', '1')\n",
    "G.add_edge('3', '2')\n",
    "G.add_edge('3', '4')\n",
    "G.add_edge('4', '3')\n",
    "G.add_edge('4', '1')\n",
    "G.add_edge('5', '1')\n",
    "G.add_edge('5', '6')\n",
    "G.add_edge('6', '5')\n",
    "G.add_edge('6', '7')\n",
    "G.add_edge('7', '6')\n",
    "G.add_edge('7', '8')\n",
    "G.add_edge('7', '9')\n",
    "G.add_edge('8', '7')\n",
    "G.add_edge('8', '6')\n",
    "G.add_edge('8', '9')\n",
    "G.add_edge('9', '6')\n",
    "G.add_edge('9', '8')\n",
    "nx.betweenness_centrality(G)"
   ]
  },
  {
   "cell_type": "code",
   "execution_count": null,
   "metadata": {},
   "outputs": [],
   "source": []
  }
 ],
 "metadata": {
  "kernelspec": {
   "display_name": "Python 3",
   "language": "python",
   "name": "python3"
  },
  "language_info": {
   "codemirror_mode": {
    "name": "ipython",
    "version": 3
   },
   "file_extension": ".py",
   "mimetype": "text/x-python",
   "name": "python",
   "nbconvert_exporter": "python",
   "pygments_lexer": "ipython3",
   "version": "3.6.8"
  }
 },
 "nbformat": 4,
 "nbformat_minor": 2
}
