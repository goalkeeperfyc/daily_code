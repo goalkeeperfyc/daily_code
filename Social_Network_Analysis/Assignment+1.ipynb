{
 "cells": [
  {
   "cell_type": "markdown",
   "metadata": {},
   "source": [
    "---\n",
    "\n",
    "_You are currently looking at **version 1.1** of this notebook. To download notebooks and datafiles, as well as get help on Jupyter notebooks in the Coursera platform, visit the [Jupyter Notebook FAQ](https://www.coursera.org/learn/python-social-network-analysis/resources/yPcBs) course resource._\n",
    "\n",
    "---"
   ]
  },
  {
   "cell_type": "markdown",
   "metadata": {},
   "source": [
    "# Assignment 1 - Creating and Manipulating Graphs\n",
    "\n",
    "Eight employees at a small company were asked to choose 3 movies that they would most enjoy watching for the upcoming company movie night. These choices are stored in the file `Employee_Movie_Choices.txt`.\n",
    "\n",
    "A second file, `Employee_Relationships.txt`, has data on the relationships between different coworkers. \n",
    "\n",
    "The relationship score has value of `-100` (Enemies) to `+100` (Best Friends). A value of zero means the two employees haven't interacted or are indifferent.\n",
    "\n",
    "Both files are tab delimited."
   ]
  },
  {
   "cell_type": "code",
   "execution_count": 70,
   "metadata": {
    "collapsed": true
   },
   "outputs": [],
   "source": [
    "import networkx as nx\n",
    "import pandas as pd\n",
    "import numpy as np\n",
    "from networkx.algorithms import bipartite\n",
    "\n",
    "\n",
    "# This is the set of employees\n",
    "employees = set(['Pablo',\n",
    "                 'Lee',\n",
    "                 'Georgia',\n",
    "                 'Vincent',\n",
    "                 'Andy',\n",
    "                 'Frida',\n",
    "                 'Joan',\n",
    "                 'Claude'])\n",
    "\n",
    "# This is the set of movies\n",
    "movies = set(['The Shawshank Redemption',\n",
    "              'Forrest Gump',\n",
    "              'The Matrix',\n",
    "              'Anaconda',\n",
    "              'The Social Network',\n",
    "              'The Godfather',\n",
    "              'Monty Python and the Holy Grail',\n",
    "              'Snakes on a Plane',\n",
    "              'Kung Fu Panda',\n",
    "              'The Dark Knight',\n",
    "              'Mean Girls'])\n",
    "\n",
    "\n",
    "# you can use the following function to plot graphs\n",
    "# make sure to comment it out before submitting to the autograder\n",
    "def plot_graph(G, weight_name=None):\n",
    "    '''\n",
    "    G: a networkx G\n",
    "    weight_name: name of the attribute for plotting edge weights (if G is weighted)\n",
    "    '''\n",
    "    %matplotlib notebook\n",
    "    import matplotlib.pyplot as plt\n",
    "    \n",
    "    plt.figure()\n",
    "    pos = nx.spring_layout(G)\n",
    "    edges = G.edges()\n",
    "    weights = None\n",
    "    \n",
    "    if weight_name:\n",
    "        weights = [int(G[u][v][weight_name]) for u,v in edges]\n",
    "        labels = nx.get_edge_attributes(G,weight_name)\n",
    "        nx.draw_networkx_edge_labels(G,pos,edge_labels=labels)\n",
    "        nx.draw_networkx(G, pos, edges=edges, width=weights);\n",
    "    else:\n",
    "        nx.draw_networkx(G, pos, edges=edges);"
   ]
  },
  {
   "cell_type": "markdown",
   "metadata": {},
   "source": [
    "### Question 1\n",
    "\n",
    "Using NetworkX, load in the bipartite graph from `Employee_Movie_Choices.txt` and return that graph.\n",
    "\n",
    "*This function should return a networkx graph with 19 nodes and 24 edges*"
   ]
  },
  {
   "cell_type": "code",
   "execution_count": 32,
   "metadata": {},
   "outputs": [
    {
     "name": "stdout",
     "output_type": "stream",
     "text": [
      "Andy\tClaude\t0\r\n",
      "Andy\tFrida\t20\r\n",
      "Andy\tGeorgia\t-10\r\n",
      "Andy\tJoan\t30\r\n",
      "Andy\tLee\t-10\r\n",
      "Andy\tPablo\t-10\r\n",
      "Andy\tVincent\t20\r\n",
      "Claude\tFrida\t0\r\n",
      "Claude\tGeorgia\t90\r\n",
      "Claude\tJoan\t0\r\n",
      "Claude\tLee\t0\r\n",
      "Claude\tPablo\t10\r\n",
      "Claude\tVincent\t0\r\n",
      "Frida\tGeorgia\t0\r\n",
      "Frida\tJoan\t0\r\n",
      "Frida\tLee\t0\r\n",
      "Frida\tPablo\t50\r\n",
      "Frida\tVincent\t60\r\n",
      "Georgia\tJoan\t0\r\n",
      "Georgia\tLee\t10\r\n",
      "Georgia\tPablo\t0\r\n",
      "Georgia\tVincent\t0\r\n",
      "Joan\tLee\t70\r\n",
      "Joan\tPablo\t0\r\n",
      "Joan\tVincent\t10\r\n",
      "Lee\tPablo\t0\r\n",
      "Lee\tVincent\t0\r\n",
      "Pablo\tVincent\t-20\r\n"
     ]
    }
   ],
   "source": [
    "#!cat Employee_Relationships.txt"
   ]
  },
  {
   "cell_type": "code",
   "execution_count": 71,
   "metadata": {},
   "outputs": [
    {
     "data": {
      "text/plain": [
       "<networkx.classes.graph.Graph at 0x7fb1c902f860>"
      ]
     },
     "execution_count": 71,
     "metadata": {},
     "output_type": "execute_result"
    }
   ],
   "source": [
    "#!cat Employee_Movie_Choices.txt\n",
    "\n",
    "G_df = pd.read_csv('Employee_Movie_Choices.txt')\n",
    "G_df['employee'] = G_df['#Employee\\tMovie'].apply(lambda x: x.split('\\t')[0])\n",
    "G_df['movie'] = G_df['#Employee\\tMovie'].apply(lambda x: x.split('\\t')[1])\n",
    "del G_df['#Employee\\tMovie']\n",
    "\n",
    "def answer_one():\n",
    "    G = nx.from_pandas_dataframe(G_df, 'employee', 'movie')\n",
    "    return G\n",
    "\n",
    "answer_one()"
   ]
  },
  {
   "cell_type": "markdown",
   "metadata": {},
   "source": [
    "### Question 2\n",
    "\n",
    "Using the graph from the previous question, add nodes attributes named `'type'` where movies have the value `'movie'` and employees have the value `'employee'` and return that graph.\n",
    "\n",
    "*This function should return a networkx graph with node attributes `{'type': 'movie'}` or `{'type': 'employee'}`*"
   ]
  },
  {
   "cell_type": "code",
   "execution_count": 72,
   "metadata": {},
   "outputs": [
    {
     "data": {
      "text/plain": [
       "<networkx.classes.graph.Graph at 0x7fb1c902b908>"
      ]
     },
     "execution_count": 72,
     "metadata": {},
     "output_type": "execute_result"
    }
   ],
   "source": [
    "employee_list = G_df['employee'].tolist()\n",
    "movie_list = G_df['movie'].tolist()\n",
    "\n",
    "def answer_two():\n",
    "    G = answer_one()\n",
    "    for employee in employee_list:\n",
    "        G.node[employee]['type'] = 'employee'\n",
    "    for movie in movie_list:\n",
    "        G.node[movie]['type'] = 'movie'\n",
    "    return G\n",
    "\n",
    "answer_two()"
   ]
  },
  {
   "cell_type": "markdown",
   "metadata": {
    "collapsed": true
   },
   "source": [
    "### Question 3\n",
    "\n",
    "Find a weighted projection of the graph from `answer_two` which tells us how many movies different pairs of employees have in common.\n",
    "\n",
    "*This function should return a weighted projected graph.*"
   ]
  },
  {
   "cell_type": "code",
   "execution_count": 73,
   "metadata": {},
   "outputs": [
    {
     "data": {
      "text/plain": [
       "<networkx.classes.graph.Graph at 0x7fb1c9050b70>"
      ]
     },
     "execution_count": 73,
     "metadata": {},
     "output_type": "execute_result"
    }
   ],
   "source": [
    "def answer_three():\n",
    "    G = answer_two()\n",
    "    X = set(employee_list)\n",
    "    P = bipartite.weighted_projected_graph(G, X)    \n",
    "    return P\n",
    "\n",
    "answer_three()"
   ]
  },
  {
   "cell_type": "markdown",
   "metadata": {
    "collapsed": true
   },
   "source": [
    "### Question 4\n",
    "\n",
    "Suppose you'd like to find out if people that have a high relationship score also like the same types of movies.\n",
    "\n",
    "Find the Pearson correlation ( using `DataFrame.corr()` ) between employee relationship scores and the number of movies they have in common. If two employees have no movies in common it should be treated as a 0, not a missing value, and should be included in the correlation calculation.\n",
    "\n",
    "*This function should return a float.*"
   ]
  },
  {
   "cell_type": "code",
   "execution_count": 75,
   "metadata": {},
   "outputs": [
    {
     "data": {
      "text/plain": [
       "0.78839622217334759"
      ]
     },
     "execution_count": 75,
     "metadata": {},
     "output_type": "execute_result"
    }
   ],
   "source": [
    "def answer_four():\n",
    "    relationship_df = pd.read_csv('Employee_Relationships.txt', delim_whitespace=True,\n",
    "                                  header=None, names=['n1', 'n2', 'score'])\n",
    "    relationship_df = relationship_df.set_index(keys=['n1', 'n2'])\n",
    "    relationship_df.head()\n",
    "    G = answer_three()\n",
    "    result_dict = G.edge\n",
    "    weight_list = []\n",
    "    for employee in employee_list:\n",
    "        part_result = result_dict[employee]\n",
    "        for key, value in part_result.items():\n",
    "            new_dict = {\"n1\":employee,\n",
    "                        \"n2\":key,\n",
    "                        \"score2\": value['weight']}\n",
    "            weight_list.append(new_dict)\n",
    "    interest_df = pd.DataFrame(weight_list)        \n",
    "    interest_df = interest_df.drop_duplicates()\n",
    "    interest_df = interest_df.set_index(keys=['n1', 'n2'])\n",
    "    new_df = relationship_df.merge(interest_df, how='outer', left_index=True, right_index=True)\n",
    "    new_df['score2'] = new_df['score2'].fillna(0)\n",
    "    new_df = new_df.dropna()\n",
    "    return new_df.corr()['score2']['score']\n",
    "\n",
    "answer_four()"
   ]
  },
  {
   "cell_type": "code",
   "execution_count": 69,
   "metadata": {},
   "outputs": [
    {
     "data": {
      "text/plain": [
       "0.78839622217334759"
      ]
     },
     "execution_count": 69,
     "metadata": {},
     "output_type": "execute_result"
    }
   ],
   "source": []
  },
  {
   "cell_type": "code",
   "execution_count": 40,
   "metadata": {},
   "outputs": [
    {
     "name": "stdout",
     "output_type": "stream",
     "text": [
      "Help on method set_index in module pandas.core.frame:\n",
      "\n",
      "set_index(keys, drop=True, append=False, inplace=False, verify_integrity=False) method of pandas.core.frame.DataFrame instance\n",
      "    Set the DataFrame index (row labels) using one or more existing\n",
      "    columns. By default yields a new object.\n",
      "    \n",
      "    Parameters\n",
      "    ----------\n",
      "    keys : column label or list of column labels / arrays\n",
      "    drop : boolean, default True\n",
      "        Delete columns to be used as the new index\n",
      "    append : boolean, default False\n",
      "        Whether to append columns to existing index\n",
      "    inplace : boolean, default False\n",
      "        Modify the DataFrame in place (do not create a new object)\n",
      "    verify_integrity : boolean, default False\n",
      "        Check the new index for duplicates. Otherwise defer the check until\n",
      "        necessary. Setting to False will improve the performance of this\n",
      "        method\n",
      "    \n",
      "    Examples\n",
      "    --------\n",
      "    >>> indexed_df = df.set_index(['A', 'B'])\n",
      "    >>> indexed_df2 = df.set_index(['A', [0, 1, 2, 0, 1, 2]])\n",
      "    >>> indexed_df3 = df.set_index([[0, 1, 2, 0, 1, 2]])\n",
      "    \n",
      "    Returns\n",
      "    -------\n",
      "    dataframe : DataFrame\n",
      "\n"
     ]
    }
   ],
   "source": []
  },
  {
   "cell_type": "code",
   "execution_count": null,
   "metadata": {
    "collapsed": true
   },
   "outputs": [],
   "source": []
  }
 ],
 "metadata": {
  "coursera": {
   "course_slug": "python-social-network-analysis",
   "graded_item_id": "YNa9b",
   "launcher_item_id": "hvNc1",
   "part_id": "VbyiB"
  },
  "kernelspec": {
   "display_name": "Python 3",
   "language": "python",
   "name": "python3"
  },
  "language_info": {
   "codemirror_mode": {
    "name": "ipython",
    "version": 3
   },
   "file_extension": ".py",
   "mimetype": "text/x-python",
   "name": "python",
   "nbconvert_exporter": "python",
   "pygments_lexer": "ipython3",
   "version": "3.6.2"
  }
 },
 "nbformat": 4,
 "nbformat_minor": 2
}
