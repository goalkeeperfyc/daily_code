{
 "cells": [
  {
   "cell_type": "code",
   "execution_count": 1,
   "metadata": {},
   "outputs": [],
   "source": [
    "import networkx as nx\n"
   ]
  },
  {
   "cell_type": "code",
   "execution_count": 2,
   "metadata": {},
   "outputs": [],
   "source": [
    "G = nx.Graph()"
   ]
  },
  {
   "cell_type": "code",
   "execution_count": 4,
   "metadata": {},
   "outputs": [],
   "source": [
    "G.add_edge('A', 'B')\n",
    "G.add_edge('A', 'C')\n",
    "G.add_edge('B', 'D')\n",
    "G.add_edge('C', 'D')\n",
    "G.add_edge('C', 'E')\n",
    "G.add_edge('D', 'E')\n",
    "G.add_edge('D', 'G')\n",
    "G.add_edge('E', 'G')\n",
    "G.add_edge('G', 'F')"
   ]
  },
  {
   "cell_type": "code",
   "execution_count": 5,
   "metadata": {},
   "outputs": [
    {
     "data": {
      "text/plain": [
       "{'A': 0.3333333333333333,\n",
       " 'B': 0.3333333333333333,\n",
       " 'C': 0.5,\n",
       " 'D': 0.6666666666666666,\n",
       " 'E': 0.5,\n",
       " 'G': 0.5,\n",
       " 'F': 0.16666666666666666}"
      ]
     },
     "execution_count": 5,
     "metadata": {},
     "output_type": "execute_result"
    }
   ],
   "source": [
    "nx.degree_centrality(G)"
   ]
  },
  {
   "cell_type": "code",
   "execution_count": 6,
   "metadata": {},
   "outputs": [
    {
     "data": {
      "text/plain": [
       "{'A': 0.46153846153846156,\n",
       " 'B': 0.5454545454545454,\n",
       " 'C': 0.6,\n",
       " 'D': 0.75,\n",
       " 'E': 0.6666666666666666,\n",
       " 'G': 0.6,\n",
       " 'F': 0.4}"
      ]
     },
     "execution_count": 6,
     "metadata": {},
     "output_type": "execute_result"
    }
   ],
   "source": [
    "nx.closeness_centrality(G)"
   ]
  },
  {
   "cell_type": "code",
   "execution_count": 7,
   "metadata": {},
   "outputs": [
    {
     "data": {
      "text/plain": [
       "{'A': 0.03333333333333333,\n",
       " 'B': 0.07777777777777777,\n",
       " 'C': 0.18888888888888888,\n",
       " 'D': 0.38888888888888884,\n",
       " 'E': 0.1111111111111111,\n",
       " 'G': 0.3333333333333333,\n",
       " 'F': 0.0}"
      ]
     },
     "execution_count": 7,
     "metadata": {},
     "output_type": "execute_result"
    }
   ],
   "source": [
    "nx.betweenness_centrality(G)"
   ]
  },
  {
   "cell_type": "code",
   "execution_count": 10,
   "metadata": {},
   "outputs": [
    {
     "data": {
      "text/plain": [
       "{('A', 'B'): 2.666666666666666,\n",
       " ('A', 'C'): 4.333333333333333,\n",
       " ('B', 'D'): 5.666666666666667,\n",
       " ('C', 'D'): 3.666666666666666,\n",
       " ('C', 'E'): 3.666666666666666,\n",
       " ('D', 'E'): 2.0,\n",
       " ('D', 'G'): 6.333333333333333,\n",
       " ('E', 'G'): 3.6666666666666665,\n",
       " ('G', 'F'): 6.0}"
      ]
     },
     "execution_count": 10,
     "metadata": {},
     "output_type": "execute_result"
    }
   ],
   "source": [
    "nx.edge_betweenness_centrality(G, normalized=False)"
   ]
  },
  {
   "cell_type": "code",
   "execution_count": 11,
   "metadata": {},
   "outputs": [],
   "source": [
    "G2 = nx.DiGraph()"
   ]
  },
  {
   "cell_type": "code",
   "execution_count": 12,
   "metadata": {},
   "outputs": [],
   "source": [
    "G2.add_edge('A', 'B')\n",
    "G2.add_edge('A', 'C')\n",
    "G2.add_edge('B', 'C')\n",
    "G2.add_edge('C', 'A')\n",
    "G2.add_edge('D', 'C')"
   ]
  },
  {
   "cell_type": "code",
   "execution_count": 23,
   "metadata": {},
   "outputs": [
    {
     "data": {
      "text/plain": [
       "({'A': 0.41421356195612885,\n",
       "  'B': 0.2928932185186695,\n",
       "  'C': 1.0065322483445805e-09,\n",
       "  'D': 0.2928932185186695},\n",
       " {'A': 2.429983801460681e-09,\n",
       "  'B': 0.29289321810158986,\n",
       "  'C': 0.7071067794684264,\n",
       "  'D': 0.0})"
      ]
     },
     "execution_count": 23,
     "metadata": {},
     "output_type": "execute_result"
    }
   ],
   "source": [
    "nx.hits(G2, max_iter=100)"
   ]
  },
  {
   "cell_type": "code",
   "execution_count": null,
   "metadata": {},
   "outputs": [],
   "source": []
  }
 ],
 "metadata": {
  "kernelspec": {
   "display_name": "Python 3",
   "language": "python",
   "name": "python3"
  },
  "language_info": {
   "codemirror_mode": {
    "name": "ipython",
    "version": 3
   },
   "file_extension": ".py",
   "mimetype": "text/x-python",
   "name": "python",
   "nbconvert_exporter": "python",
   "pygments_lexer": "ipython3",
   "version": "3.6.8"
  }
 },
 "nbformat": 4,
 "nbformat_minor": 2
}
